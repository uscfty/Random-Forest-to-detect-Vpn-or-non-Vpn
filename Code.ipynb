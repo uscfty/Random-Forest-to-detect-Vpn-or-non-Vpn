#This is not my code, thank you the original author to contribute the open resources
{
 "cells": [
  {
   "cell_type": "code",
   "execution_count": 60,
   "id": "fba87afe",
   "metadata": {},
   "outputs": [],
   "source": [
    "cmd_80 = 'nprint -P port80.pcap -t -W port80.npt'\n",
    "cmd_443 = 'nprint -P port443.pcap -t -W port443.npt'\n",
    "!{cmd_80}\n",
    "!{cmd_443}"
   ]
  },
  {
   "cell_type": "code",
   "execution_count": 61,
   "id": "21699a3c",
   "metadata": {},
   "outputs": [
    {
     "name": "stdout",
     "output_type": "stream",
     "text": [
      "Port 80 nPrint: Number of Packets: 2421, Features per packet: 480\n",
      "Port 443 nPrint: Number of Packets: 2500, Features per packet: 480\n"
     ]
    }
   ],
   "source": [
    "import pandas as pd\n",
    "\n",
    "nprint_80 = pd.read_csv('port80.npt', index_col=0)\n",
    "nprint_443 = pd.read_csv('port443.npt', index_col=0)\n",
    "\n",
    "print('Port 80 nPrint: Number of Packets: {0}, Features per packet: {1}'.format(nprint_80.shape[0], nprint_80.shape[1]))\n",
    "print('Port 443 nPrint: Number of Packets: {0}, Features per packet: {1}'.format(nprint_443.shape[0], nprint_443.shape[1]))"
   ]
  },
  {
   "cell_type": "code",
   "execution_count": 62,
   "id": "49c6bdb9",
   "metadata": {},
   "outputs": [
    {
     "name": "stdout",
     "output_type": "stream",
     "text": [
      "Index(['tcp_sprt_0', 'tcp_sprt_1', 'tcp_sprt_2', 'tcp_sprt_3', 'tcp_sprt_4',\n",
      "       'tcp_sprt_5', 'tcp_sprt_6', 'tcp_sprt_7', 'tcp_sprt_8', 'tcp_sprt_9',\n",
      "       ...\n",
      "       'tcp_opt_310', 'tcp_opt_311', 'tcp_opt_312', 'tcp_opt_313',\n",
      "       'tcp_opt_314', 'tcp_opt_315', 'tcp_opt_316', 'tcp_opt_317',\n",
      "       'tcp_opt_318', 'tcp_opt_319'],\n",
      "      dtype='object', length=480)\n",
      "Index(['tcp_sprt_0', 'tcp_sprt_1', 'tcp_sprt_2', 'tcp_sprt_3', 'tcp_sprt_4',\n",
      "       'tcp_sprt_5', 'tcp_sprt_6', 'tcp_sprt_7', 'tcp_sprt_8', 'tcp_sprt_9',\n",
      "       ...\n",
      "       'tcp_opt_310', 'tcp_opt_311', 'tcp_opt_312', 'tcp_opt_313',\n",
      "       'tcp_opt_314', 'tcp_opt_315', 'tcp_opt_316', 'tcp_opt_317',\n",
      "       'tcp_opt_318', 'tcp_opt_319'],\n",
      "      dtype='object', length=480)\n"
     ]
    }
   ],
   "source": [
    "print(nprint_80.columns)\n",
    "print(nprint_443.columns)"
   ]
  },
  {
   "cell_type": "code",
   "execution_count": 63,
   "id": "20512fd3",
   "metadata": {},
   "outputs": [],
   "source": [
    "import numpy as np\n",
    "\n",
    "samples = []\n",
    "labels = []\n",
    "for _, row in nprint_80.iterrows():\n",
    "    samples.append(np.array(row))\n",
    "    labels.append('unencrypted')\n",
    "\n",
    "for _, row in nprint_443.iterrows():\n",
    "    samples.append(np.array(row))\n",
    "    labels.append('encrypted')"
   ]
  },
  {
   "cell_type": "code",
   "execution_count": 64,
   "id": "69ccf27d",
   "metadata": {},
   "outputs": [
    {
     "name": "stdout",
     "output_type": "stream",
     "text": [
      "              precision    recall  f1-score   support\n",
      "\n",
      "   encrypted       1.00      1.00      1.00       629\n",
      " unencrypted       1.00      1.00      1.00       602\n",
      "\n",
      "    accuracy                           1.00      1231\n",
      "   macro avg       1.00      1.00      1.00      1231\n",
      "weighted avg       1.00      1.00      1.00      1231\n",
      "\n",
      "ROC AUC Score: 1.0\n"
     ]
    }
   ],
   "source": [
    "from sklearn.model_selection import train_test_split\n",
    "from sklearn.ensemble import RandomForestClassifier\n",
    "from sklearn.metrics import classification_report\n",
    "from sklearn.metrics import roc_auc_score\n",
    "\n",
    "# Split data\n",
    "X_train, X_test, y_train, y_test = train_test_split(samples, labels)\n",
    "\n",
    "# Initialize Classifier\n",
    "clf = RandomForestClassifier(n_estimators=1000, max_depth=None, min_samples_split=2, random_state=0)\n",
    "\n",
    "# Train \n",
    "clf.fit(X_train, y_train) \n",
    "\n",
    "# Predict\n",
    "y_pred = clf.predict(X_test)\n",
    "\n",
    "# Statistics\n",
    "\n",
    "# First, lets get a stat report about the precision and recall:\n",
    "report = classification_report(y_test, y_pred)\n",
    "print(report)\n",
    "\n",
    "# Let's also get the ROC AUC score while we're here, which requires a probability instead of just the prediction\n",
    "y_pred_proba = clf.predict_proba(X_test)\n",
    "# predict_proba gives us a probability estimate of each class, while roc_auc just cares about the \"positive\" class\n",
    "y_pred_proba_pos = [sublist[1] for sublist in y_pred_proba]\n",
    "roc = roc_auc_score(y_test, y_pred_proba_pos)\n",
    "print('ROC AUC Score: {0}'.format(roc))"
   ]
  },
  {
   "cell_type": "code",
   "execution_count": 65,
   "id": "10a66aa0",
   "metadata": {},
   "outputs": [
    {
     "name": "stdout",
     "output_type": "stream",
     "text": [
      "('tcp_opt_67', np.float64(0.041247880863164665))\n",
      "('tcp_opt_6', np.float64(0.01608683926910587))\n",
      "('tcp_opt_55', np.float64(0.015369971798111264))\n",
      "('tcp_opt_20', np.float64(0.015299322695617007))\n",
      "('tcp_opt_40', np.float64(0.01488751568007063))\n",
      "('tcp_opt_44', np.float64(0.014832443956551932))\n",
      "('tcp_opt_42', np.float64(0.013621609906656387))\n",
      "('tcp_opt_37', np.float64(0.013490888108326491))\n",
      "('tcp_opt_48', np.float64(0.013441342960330937))\n",
      "('tcp_opt_77', np.float64(0.013074264997884303))\n",
      "('tcp_opt_29', np.float64(0.012911042777403863))\n",
      "('tcp_opt_72', np.float64(0.012741672504742004))\n",
      "('tcp_opt_50', np.float64(0.012641212358112898))\n",
      "('tcp_opt_49', np.float64(0.012584524496651364))\n",
      "('tcp_opt_54', np.float64(0.012414125335910704))\n",
      "('tcp_opt_24', np.float64(0.012353396125256016))\n",
      "('tcp_opt_32', np.float64(0.012332151160080318))\n",
      "('tcp_opt_64', np.float64(0.012263861456637546))\n",
      "('tcp_opt_52', np.float64(0.011839825951603811))\n",
      "('tcp_opt_75', np.float64(0.011837130123294343))\n"
     ]
    }
   ],
   "source": [
    "# Get Raw feature importances\n",
    "feature_importances = clf.feature_importances_\n",
    "# Match the feature names we know with the importances\n",
    "named_importances = []\n",
    "for column_name, importance in zip(nprint_80.columns, feature_importances):\n",
    "    named_importances.append((column_name, importance))\n",
    "# Sort the named feature importances\n",
    "sorted_feature_importances = sorted(named_importances, key=lambda tup: tup[1], reverse=True)\n",
    "# Now lets print the top 20 important features (bits)\n",
    "print(*sorted_feature_importances[0:20], sep='\\n') "
   ]
  },
  {
   "cell_type": "code",
   "execution_count": 66,
   "id": "a6ac8631",
   "metadata": {},
   "outputs": [
    {
     "name": "stdout",
     "output_type": "stream",
     "text": [
      "              precision    recall  f1-score   support\n",
      "\n",
      "   encrypted       1.00      1.00      1.00       633\n",
      " unencrypted       1.00      1.00      1.00       598\n",
      "\n",
      "    accuracy                           1.00      1231\n",
      "   macro avg       1.00      1.00      1.00      1231\n",
      "weighted avg       1.00      1.00      1.00      1231\n",
      "\n"
     ]
    }
   ],
   "source": [
    "# Generate nPrints\n",
    "cmd_80 = 'nprint -P port80.pcap -4  -W port80.npt'\n",
    "cmd_443 = 'nprint -P port443.pcap -4 -W port443.npt'\n",
    "!{cmd_80}\n",
    "!{cmd_443}\n",
    "\n",
    "# Load nPrints\n",
    "nprint_80 = pd.read_csv('port80.npt', index_col=0)\n",
    "nprint_443 = pd.read_csv('port443.npt', index_col=0)\n",
    "\n",
    "# Assoicate with Labels\n",
    "samples = []\n",
    "labels = []\n",
    "for _, row in nprint_80.iterrows():\n",
    "    samples.append(np.array(row))\n",
    "    labels.append('unencrypted')\n",
    "\n",
    "for _, row in nprint_443.iterrows():\n",
    "    samples.append(np.array(row))\n",
    "    labels.append('encrypted')\n",
    "    \n",
    "# Train and Test the Classifier\n",
    "# Split data\n",
    "X_train, X_test, y_train, y_test = train_test_split(samples, labels)\n",
    "# Initialize Classifier\n",
    "clf = RandomForestClassifier(n_estimators=1000, max_depth=None, min_samples_split=2, random_state=0)\n",
    "# Train \n",
    "clf.fit(X_train, y_train) \n",
    "# Predict\n",
    "y_pred = clf.predict(X_test)\n",
    "# Statistics\n",
    "report = classification_report(y_test, y_pred)\n",
    "print(report)"
   ]
  },
  {
   "cell_type": "code",
   "execution_count": 67,
   "id": "6d94bf83",
   "metadata": {},
   "outputs": [
    {
     "name": "stdout",
     "output_type": "stream",
     "text": [
      "              precision    recall  f1-score   support\n",
      "\n",
      "   encrypted       0.64      0.66      0.65       614\n",
      " unencrypted       0.65      0.64      0.64       617\n",
      "\n",
      "    accuracy                           0.65      1231\n",
      "   macro avg       0.65      0.65      0.65      1231\n",
      "weighted avg       0.65      0.65      0.65      1231\n",
      "\n"
     ]
    }
   ],
   "source": [
    "# Generate nPrints\n",
    "cmd_80 = 'nprint -P port80.pcap -p 30 -W port80.npt'\n",
    "cmd_443 = 'nprint -P port443.pcap -p 30 -W port443.npt'\n",
    "!{cmd_80}\n",
    "!{cmd_443}\n",
    "\n",
    "# Load nPrints\n",
    "nprint_80 = pd.read_csv('port80.npt', index_col=0)\n",
    "nprint_443 = pd.read_csv('port443.npt', index_col=0)\n",
    "\n",
    "# Assoicate with Labels\n",
    "samples = []\n",
    "labels = []\n",
    "for _, row in nprint_80.iterrows():\n",
    "    samples.append(np.array(row))\n",
    "    labels.append('unencrypted')\n",
    "\n",
    "for _, row in nprint_443.iterrows():\n",
    "    samples.append(np.array(row))\n",
    "    labels.append('encrypted')\n",
    "    \n",
    "# Train and Test the Classifier\n",
    "# Split data\n",
    "X_train, X_test, y_train, y_test = train_test_split(samples, labels)\n",
    "# Initialize Classifier\n",
    "clf = RandomForestClassifier(n_estimators=1000, max_depth=None, min_samples_split=2, random_state=0)\n",
    "# Train \n",
    "clf.fit(X_train, y_train) \n",
    "# Predict\n",
    "y_pred = clf.predict(X_test)\n",
    "# Statistics\n",
    "report = classification_report(y_test, y_pred)\n",
    "print(report)"
   ]
  },
  {
   "cell_type": "code",
   "execution_count": 68,
   "id": "eb72755c",
   "metadata": {},
   "outputs": [
    {
     "name": "stdout",
     "output_type": "stream",
     "text": [
      "              precision    recall  f1-score   support\n",
      "\n",
      "   encrypted       0.63      1.00      0.78       414\n",
      " unencrypted       1.00      0.23      0.37       310\n",
      "\n",
      "    accuracy                           0.67       724\n",
      "   macro avg       0.82      0.61      0.57       724\n",
      "weighted avg       0.79      0.67      0.60       724\n",
      "\n"
     ]
    }
   ],
   "source": [
    "# Load nPrints\n",
    "nprint_80 = pd.read_csv('port80.npt', index_col=0)\n",
    "nprint_443 = pd.read_csv('port443.npt', index_col=0)\n",
    "\n",
    "# Assoicate with Labels\n",
    "samples = []\n",
    "labels = []\n",
    "for _, row in nprint_80.iterrows():\n",
    "    # Check for no payload, all bits will be -1. There are more efficient ways to do this\n",
    "    if len(set(row)) == 1:\n",
    "        continue\n",
    "    samples.append(np.array(row))\n",
    "    labels.append('unencrypted')\n",
    "\n",
    "for _, row in nprint_443.iterrows():\n",
    "    # Check for no payload, all bits will be -1. There are more efficient ways to do this\n",
    "    if len(set(row)) == 1:\n",
    "        continue\n",
    "    samples.append(np.array(row))\n",
    "    labels.append('encrypted')\n",
    "    \n",
    "# Train and Test the Classifier\n",
    "# Split data\n",
    "X_train, X_test, y_train, y_test = train_test_split(samples, labels)\n",
    "# Initialize Classifier\n",
    "clf = RandomForestClassifier(n_estimators=1000, max_depth=None, min_samples_split=2, random_state=0)\n",
    "# Train \n",
    "clf.fit(X_train, y_train) \n",
    "# Predict\n",
    "y_pred = clf.predict(X_test)\n",
    "# Statistics\n",
    "report = classification_report(y_test, y_pred)\n",
    "print(report)"
   ]
  },
  {
   "cell_type": "code",
   "execution_count": null,
   "id": "158226c0",
   "metadata": {},
   "outputs": [],
   "source": []
  }
 ],
 "metadata": {
  "kernelspec": {
   "display_name": "Python 3 (ipykernel)",
   "language": "python",
   "name": "python3"
  },
  "language_info": {
   "codemirror_mode": {
    "name": "ipython",
    "version": 3
   },
   "file_extension": ".py",
   "mimetype": "text/x-python",
   "name": "python",
   "nbconvert_exporter": "python",
   "pygments_lexer": "ipython3",
   "version": "3.11.5"
  }
 },
 "nbformat": 4,
 "nbformat_minor": 5
}
